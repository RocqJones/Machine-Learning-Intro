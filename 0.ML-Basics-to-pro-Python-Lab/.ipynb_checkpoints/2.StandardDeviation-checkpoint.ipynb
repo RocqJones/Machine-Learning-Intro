{
 "cells": [
  {
   "cell_type": "code",
   "execution_count": null,
   "metadata": {},
   "outputs": [],
   "source": [
    "\"\"\"\n",
    "    1. Standard deviation.\n",
    "       A number that describes how spread out the values are.\n",
    "       - A low standard deviation means that most of the numbers are close to the mean (average) value.\n",
    "       - A high standard deviation means that the values are spread out over a wider range.\n",
    "\"\"\""
   ]
  },
  {
   "cell_type": "code",
   "execution_count": 1,
   "metadata": {},
   "outputs": [],
   "source": [
    "import numpy"
   ]
  },
  {
   "cell_type": "code",
   "execution_count": 2,
   "metadata": {},
   "outputs": [
    {
     "name": "stdout",
     "output_type": "stream",
     "text": [
      "0.9035079029052513\n"
     ]
    }
   ],
   "source": [
    "# LOW std deviation\n",
    "speed = [86,87,88,86,87,85,86]\n",
    "\n",
    "low_std = numpy.std(speed)\n",
    "\n",
    "print(low_std)"
   ]
  },
  {
   "cell_type": "code",
   "execution_count": 3,
   "metadata": {},
   "outputs": [
    {
     "name": "stdout",
     "output_type": "stream",
     "text": [
      "37.84501153334721\n"
     ]
    }
   ],
   "source": [
    "# HIGH std deviation\n",
    "speed = [32,111,138,28,59,77,97]\n",
    "\n",
    "high_std = numpy.std(speed)\n",
    "\n",
    "print(high_std)"
   ]
  },
  {
   "cell_type": "code",
   "execution_count": null,
   "metadata": {},
   "outputs": [],
   "source": [
    "\"\"\"\n",
    "    2. Variance.\n",
    "       Variance is another number that indicates how spread out the values are.\n",
    "       FORMULA: standard deviation = 'square root' of the variance.\n",
    "                   Or \n",
    "                Variance = (standard deviation x standard deviation)\n",
    "    EXAMPLE.\n",
    "    To calculate the variance you have to do as follows:\n",
    "\n",
    "    1. Find the mean:\n",
    "\n",
    "        (32+111+138+28+59+77+97) / 7 = 77.4\n",
    "\n",
    "    2. For each value: find the difference from the mean:\n",
    "\n",
    "         32 - 77.4 = -45.4\n",
    "        111 - 77.4 =  33.6\n",
    "        138 - 77.4 =  60.6\n",
    "         28 - 77.4 = -49.4\n",
    "         59 - 77.4 = -18.4\n",
    "         77 - 77.4 = - 0.4\n",
    "         97 - 77.4 =  19.6\n",
    "\n",
    "    3. For each difference: find the square value:\n",
    "\n",
    "        (-45.4)2 = 2061.16\n",
    "         (33.6)2 = 1128.96\n",
    "         (60.6)2 = 3672.36\n",
    "        (-49.4)2 = 2440.36\n",
    "        (-18.4)2 =  338.56\n",
    "        (- 0.4)2 =    0.16\n",
    "         (19.6)2 =  384.16\n",
    "         \n",
    "    4. The variance is the average number of these squared differences:\n",
    "\n",
    "        (2061.16+1128.96+3672.36+2440.36+338.56+0.16+384.16) / 7 = 1432.2\n",
    "\"\"\""
   ]
  },
  {
   "cell_type": "code",
   "execution_count": 4,
   "metadata": {},
   "outputs": [
    {
     "name": "stdout",
     "output_type": "stream",
     "text": [
      "1432.2448979591834\n"
     ]
    }
   ],
   "source": [
    "import numpy\n",
    "\n",
    "speed = [32,111,138,28,59,77,97]\n",
    "\n",
    "variance = numpy.var(speed)\n",
    "\n",
    "print(variance)"
   ]
  },
  {
   "cell_type": "code",
   "execution_count": 5,
   "metadata": {},
   "outputs": [
    {
     "name": "stdout",
     "output_type": "stream",
     "text": [
      "37.84501153334721\n"
     ]
    }
   ],
   "source": [
    "# std dev\n",
    "import numpy\n",
    "\n",
    "speed = [32,111,138,28,59,77,97]\n",
    "\n",
    "std_dev = numpy.std(speed)\n",
    "\n",
    "print(std_dev)"
   ]
  }
 ],
 "metadata": {
  "kernelspec": {
   "display_name": "Python 3",
   "language": "python",
   "name": "python3"
  },
  "language_info": {
   "codemirror_mode": {
    "name": "ipython",
    "version": 3
   },
   "file_extension": ".py",
   "mimetype": "text/x-python",
   "name": "python",
   "nbconvert_exporter": "python",
   "pygments_lexer": "ipython3",
   "version": "3.7.3"
  }
 },
 "nbformat": 4,
 "nbformat_minor": 2
}
