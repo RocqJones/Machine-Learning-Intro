{
 "cells": [
  {
   "cell_type": "code",
   "execution_count": null,
   "metadata": {},
   "outputs": [],
   "source": [
    "\"\"\"\n",
    "    - Machine Learning is making the computer learn from studying data and statistics.\n",
    "    - Machine Learning is a program that analyses data and learns to predict the outcome.\n",
    "    \n",
    "    Three Data Type Categories.\n",
    "    1.Numerical data. \n",
    "    - They're numbers, and can be split into two numerical categories:\n",
    "        a) Discrete Data.\n",
    "        - Numbers that are limited to integers. Example: The number of cars passing by.\n",
    "        b)Continuous Data\n",
    "        - Numbers that are of infinite value. Example: The price of an item, or the size of an item.\n",
    "        \n",
    "    2. Categorical data. \n",
    "    - They're values that cannot be measured up against each other. \n",
    "      Example: a color value, or any yes/no values.\n",
    "\n",
    "    3. Ordinal data.\n",
    "    - They're like categorical data, but can be measured up against each other.\n",
    "      Example: school grades where A is better than B and so on.\n",
    "    \n",
    "    Mean - The average value\n",
    "    Median - The mid point value\n",
    "    Mode - The most common value\n",
    "\"\"\""
   ]
  },
  {
   "cell_type": "code",
   "execution_count": 1,
   "metadata": {},
   "outputs": [],
   "source": [
    "import numpy"
   ]
  },
  {
   "cell_type": "code",
   "execution_count": 2,
   "metadata": {},
   "outputs": [],
   "source": [
    "# def data set.\n",
    "speed = [99,86,87,88,111,86,103,87,94,78,77,85,86]"
   ]
  },
  {
   "cell_type": "code",
   "execution_count": 3,
   "metadata": {},
   "outputs": [
    {
     "name": "stdout",
     "output_type": "stream",
     "text": [
      "89.76923076923077\n"
     ]
    }
   ],
   "source": [
    "\"\"\"1. Mean - The average value\"\"\"\n",
    "mean_value = numpy.mean(speed)\n",
    "print(mean_value)"
   ]
  },
  {
   "cell_type": "code",
   "execution_count": 4,
   "metadata": {},
   "outputs": [
    {
     "name": "stdout",
     "output_type": "stream",
     "text": [
      "87.0\n"
     ]
    }
   ],
   "source": [
    "\"\"\"2. Median - The mid point value\"\"\"\n",
    "median_val = numpy.median(speed)\n",
    "print(median_val)"
   ]
  },
  {
   "cell_type": "code",
   "execution_count": 7,
   "metadata": {},
   "outputs": [
    {
     "name": "stdout",
     "output_type": "stream",
     "text": [
      "ModeResult(mode=array([86]), count=array([3]))\n"
     ]
    }
   ],
   "source": [
    "\"\"\"\n",
    "    3. Mode - The most common value\n",
    "    NOTE: Use the SciPy mode() method to find the number that appears the most\n",
    "\"\"\"\n",
    "from scipy import stats\n",
    "\n",
    "mode_val = stats.mode(speed)\n",
    "print(mode_val)"
   ]
  }
 ],
 "metadata": {
  "kernelspec": {
   "display_name": "Python 3",
   "language": "python",
   "name": "python3"
  },
  "language_info": {
   "codemirror_mode": {
    "name": "ipython",
    "version": 3
   },
   "file_extension": ".py",
   "mimetype": "text/x-python",
   "name": "python",
   "nbconvert_exporter": "python",
   "pygments_lexer": "ipython3",
   "version": "3.7.3"
  }
 },
 "nbformat": 4,
 "nbformat_minor": 2
}
